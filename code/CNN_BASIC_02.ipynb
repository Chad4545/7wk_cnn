{
 "cells": [
  {
   "cell_type": "code",
   "execution_count": 1,
   "metadata": {},
   "outputs": [
    {
     "name": "stderr",
     "output_type": "stream",
     "text": [
      "Using TensorFlow backend.\n"
     ]
    }
   ],
   "source": [
    "import warnings\n",
    "warnings.filterwarnings('ignore')\n",
    "import keras\n",
    "keras.__version__\n",
    "import os, shutil\n"
   ]
  },
  {
   "cell_type": "markdown",
   "metadata": {},
   "source": [
    "이 데이터셋은 25,000개의 강아지와 고양이 이미지(클래스마다 12,500개)를 담고 있고 (압축해서) 543MB 크기입니다. 다운로드하고 압축을 해제한 후 세 개의 서브셋이 들어 있는 새로운 데이터셋을 만들 것입니다. 클래스마다 1,000개의 샘플로 이루어진 훈련 세트, 클래스마다 500개의 샘플로 이루어진 검증 세트, 클래스마다 500개의 샘플로 이루어진 테스트 세트입니다.\n",
    "\n",
    "다음은 이를 처리하는 코드입니다:"
   ]
  },
  {
   "cell_type": "code",
   "execution_count": 2,
   "metadata": {},
   "outputs": [],
   "source": [
    "# 원본 데이터셋을 압축 해제한 디렉터리 경로\n",
    "original_dataset_dir = './cats_and_dogs/train'\n",
    "\n",
    "# 소규모 데이터셋을 저장할 디렉터리\n",
    "base_dir = './cats_and_dogs_small'"
   ]
  },
  {
   "cell_type": "code",
   "execution_count": 3,
   "metadata": {},
   "outputs": [
    {
     "data": {
      "text/plain": [
       "'C:\\\\Users\\\\kynk9\\\\Desktop\\\\ch'"
      ]
     },
     "execution_count": 3,
     "metadata": {},
     "output_type": "execute_result"
    }
   ],
   "source": [
    "os.getcwd()"
   ]
  },
  {
   "cell_type": "code",
   "execution_count": 4,
   "metadata": {},
   "outputs": [],
   "source": [
    "# 훈련, 검증, 테스트 분할을 위한 디렉터리\n",
    "train_dir = os.path.join(base_dir, 'train')\n",
    "validation_dir = os.path.join(base_dir, 'validation')\n",
    "test_dir = os.path.join(base_dir, 'test')"
   ]
  },
  {
   "cell_type": "code",
   "execution_count": null,
   "metadata": {},
   "outputs": [],
   "source": [
    "# 훈련용 고양이 사진 디렉터리\n",
    "train_cats_dir = os.path.join(train_dir, 'cats')"
   ]
  },
  {
   "cell_type": "code",
   "execution_count": 6,
   "metadata": {},
   "outputs": [],
   "source": [
    "# 훈련용 강아지 사진 디렉터리\n",
    "train_dogs_dir = os.path.join(train_dir, 'dogs')"
   ]
  },
  {
   "cell_type": "code",
   "execution_count": 7,
   "metadata": {},
   "outputs": [],
   "source": [
    "# 검증용 고양이 사진 디렉터리\n",
    "validation_cats_dir = os.path.join(validation_dir, 'cats')"
   ]
  },
  {
   "cell_type": "code",
   "execution_count": 8,
   "metadata": {},
   "outputs": [],
   "source": [
    "# 검증용 강아지 사진 디렉터리\n",
    "validation_dogs_dir = os.path.join(validation_dir, 'dogs')"
   ]
  },
  {
   "cell_type": "code",
   "execution_count": 9,
   "metadata": {},
   "outputs": [],
   "source": [
    "# 테스트용 고양이 사진 디렉터리\n",
    "test_cats_dir = os.path.join(test_dir, 'cats')"
   ]
  },
  {
   "cell_type": "code",
   "execution_count": 10,
   "metadata": {},
   "outputs": [],
   "source": [
    "# 테스트용 강아지 사진 디렉터리\n",
    "test_dogs_dir = os.path.join(test_dir, 'dogs')"
   ]
  },
  {
   "cell_type": "code",
   "execution_count": 23,
   "metadata": {},
   "outputs": [
    {
     "name": "stdout",
     "output_type": "stream",
     "text": [
      "훈련용 고양이 이미지 전체 개수: 1000\n",
      "훈련용 강아지 이미지 전체 개수: 1000\n",
      "검증용 고양이 이미지 전체 개수: 500\n",
      "검증용 강아지 이미지 전체 개수: 500\n",
      "테스트용 고양이 이미지 전체 개수: 500\n",
      "테스트용 강아지 이미지 전체 개수: 500\n"
     ]
    }
   ],
   "source": [
    "print('훈련용 고양이 이미지 전체 개수:', len(os.listdir(train_cats_dir)))\n",
    "print('훈련용 강아지 이미지 전체 개수:', len(os.listdir(train_dogs_dir)))\n",
    "print('검증용 고양이 이미지 전체 개수:', len(os.listdir(validation_cats_dir)))\n",
    "print('검증용 강아지 이미지 전체 개수:', len(os.listdir(validation_dogs_dir)))\n",
    "print('테스트용 고양이 이미지 전체 개수:', len(os.listdir(test_cats_dir)))\n",
    "print('테스트용 강아지 이미지 전체 개수:', len(os.listdir(test_dogs_dir)))"
   ]
  },
  {
   "cell_type": "code",
   "execution_count": 14,
   "metadata": {},
   "outputs": [],
   "source": [
    "\n",
    "from keras import layers\n",
    "from keras import models\n",
    "\n",
    "model = models.Sequential()\n",
    "model.add(layers.Conv2D(32, (3, 3), activation='relu',\n",
    "                        input_shape=(150, 150, 3)))\n",
    "model.add(layers.MaxPooling2D((2, 2)))\n",
    "model.add(layers.Conv2D(64, (3, 3), activation='relu'))\n",
    "model.add(layers.MaxPooling2D((2, 2)))\n",
    "model.add(layers.Conv2D(128, (3, 3), activation='relu'))\n",
    "model.add(layers.MaxPooling2D((2, 2)))\n",
    "model.add(layers.Conv2D(128, (3, 3), activation='relu'))\n",
    "model.add(layers.MaxPooling2D((2, 2)))\n",
    "model.add(layers.Flatten())\n",
    "model.add(layers.Dense(512, activation='relu'))\n",
    "model.add(layers.Dense(1, activation='sigmoid'))"
   ]
  },
  {
   "cell_type": "code",
   "execution_count": 15,
   "metadata": {},
   "outputs": [
    {
     "name": "stdout",
     "output_type": "stream",
     "text": [
      "_________________________________________________________________\n",
      "Layer (type)                 Output Shape              Param #   \n",
      "=================================================================\n",
      "conv2d_1 (Conv2D)            (None, 148, 148, 32)      896       \n",
      "_________________________________________________________________\n",
      "max_pooling2d_1 (MaxPooling2 (None, 74, 74, 32)        0         \n",
      "_________________________________________________________________\n",
      "conv2d_2 (Conv2D)            (None, 72, 72, 64)        18496     \n",
      "_________________________________________________________________\n",
      "max_pooling2d_2 (MaxPooling2 (None, 36, 36, 64)        0         \n",
      "_________________________________________________________________\n",
      "conv2d_3 (Conv2D)            (None, 34, 34, 128)       73856     \n",
      "_________________________________________________________________\n",
      "max_pooling2d_3 (MaxPooling2 (None, 17, 17, 128)       0         \n",
      "_________________________________________________________________\n",
      "conv2d_4 (Conv2D)            (None, 15, 15, 128)       147584    \n",
      "_________________________________________________________________\n",
      "max_pooling2d_4 (MaxPooling2 (None, 7, 7, 128)         0         \n",
      "_________________________________________________________________\n",
      "flatten_1 (Flatten)          (None, 6272)              0         \n",
      "_________________________________________________________________\n",
      "dense_1 (Dense)              (None, 512)               3211776   \n",
      "_________________________________________________________________\n",
      "dense_2 (Dense)              (None, 1)                 513       \n",
      "=================================================================\n",
      "Total params: 3,453,121\n",
      "Trainable params: 3,453,121\n",
      "Non-trainable params: 0\n",
      "_________________________________________________________________\n"
     ]
    }
   ],
   "source": [
    "model.summary()\n"
   ]
  },
  {
   "cell_type": "markdown",
   "metadata": {},
   "source": [
    "컴파일 단계에서 이전과 같이 RMSprop 옵티마이저를 선택하겠습니다.\n",
    "네트워크의 마지막이 하나의 시그모이드 유닛이기 때문에 이진 크로스엔트로피(binary crossentropy)를 손실로 사용합니다\n"
   ]
  },
  {
   "cell_type": "code",
   "execution_count": 16,
   "metadata": {},
   "outputs": [],
   "source": [
    "from keras import optimizers\n",
    "\n",
    "model.compile(loss='binary_crossentropy',\n",
    "              optimizer=optimizers.RMSprop(lr=1e-4),\n",
    "              metrics=['acc'])"
   ]
  },
  {
   "cell_type": "markdown",
   "metadata": {},
   "source": [
    "### 데이터 전처리\n",
    "- 데이터는 네트워크에 주입되기 전에 부동 소수 타입의 텐서로 적절하게 전처리되어 있어야 합니다. \n",
    "\n",
    "- 지금은 데이터가 JPEG 파일로 되어 있으므로 네트워크에 주입하려면 대략 다음 과정을 따릅니다.\n",
    "\n",
    "1. 사진 파일을 읽습니다.\n",
    "2. JPEG 콘텐츠를 RGB 픽셀 값으로 디코딩합니다.\n",
    "3. 그다음 부동 소수 타입의 텐서로 변환합니다.\n",
    "4. 픽셀 값(0에서 255 사이)의 스케일을 [0, 1] 사이로 조정합니다(신경망은 작은 입력 값을 선호합니다).\n",
    "5. 좀 복잡하게 보일 수 있지만 다행히 케라스는 이런 단계를 자동으로 처리하는 유틸리티를 가지고 있습니다. \n",
    "\n",
    "6. 케라스는 keras.preprocessing.image에 이미지 처리를 위한 헬퍼 도구들을 가지고 있습니다. 특히 ImageDataGenerator 클래스는 디스크에 있는 이미지 파일을 전처리된 배치 텐서로 자동으로 바꾸어주는 파이썬 제너레이터를 만들어 줍니다. 이 클래스를 사용해 보겠습니다.\n",
    "\n"
   ]
  },
  {
   "cell_type": "code",
   "execution_count": 24,
   "metadata": {},
   "outputs": [
    {
     "name": "stdout",
     "output_type": "stream",
     "text": [
      "Found 2000 images belonging to 2 classes.\n",
      "Found 1000 images belonging to 2 classes.\n"
     ]
    }
   ],
   "source": [
    "from keras.preprocessing.image import ImageDataGenerator\n",
    "\n",
    "# 모든 이미지를 1/255로 스케일을 조정합니다\n",
    "train_datagen = ImageDataGenerator(rescale=1./255)\n",
    "test_datagen = ImageDataGenerator(rescale=1./255)\n",
    "\n",
    "train_generator = train_datagen.flow_from_directory(\n",
    "        # 타깃 디렉터리\n",
    "        './cats_and_dogs_small/train',\n",
    "        # 모든 이미지를 150 × 150 크기로 바꿉니다\n",
    "        target_size=(150, 150),\n",
    "        batch_size=20,\n",
    "        # binary_crossentropy 손실을 사용하기 때문에 이진 레이블이 필요합니다\n",
    "        class_mode='binary')\n",
    "\n",
    "\n",
    "validation_generator = test_datagen.flow_from_directory(\n",
    "        './cats_and_dogs_small/validation',\n",
    "        target_size=(150, 150),\n",
    "        batch_size=20,\n",
    "        class_mode='binary')"
   ]
  },
  {
   "cell_type": "markdown",
   "metadata": {},
   "source": [
    "이 제너레이터의 출력 하나를 살펴보죠. \n",
    "\n",
    "이 출력은 150 × 150 RGB 이미지의 배치((20, 150, 150, 3) 크기)와 이진 레이블의 배치((20,) 크기)입니다. \n",
    "\n",
    "각 배치에는 20개의 샘플(배치 크기)이 있습니다. \n",
    "\n",
    "제너레이터는 이 배치를 무한정 만들어 냅니다.\n",
    "\n",
    "타깃 폴더에 있는 이미지를 끝없이 반복합니다. 따라서 반복 루프안의 어디에선가 break 문을 사용해야 합니다.\n",
    "\n"
   ]
  },
  {
   "cell_type": "code",
   "execution_count": 25,
   "metadata": {},
   "outputs": [
    {
     "name": "stdout",
     "output_type": "stream",
     "text": [
      "배치 데이터 크기: (20, 150, 150, 3)\n",
      "배치 레이블 크기: (20,)\n"
     ]
    }
   ],
   "source": [
    "for data_batch, labels_batch in train_generator:\n",
    "    print('배치 데이터 크기:', data_batch.shape)\n",
    "    print('배치 레이블 크기:', labels_batch.shape)\n",
    "    break"
   ]
  },
  {
   "cell_type": "markdown",
   "metadata": {},
   "source": [
    "제너레이터를 사용한 데이터에 모델을 훈련시켜 보겠습니다.\n",
    "\n",
    "fit_generator 메서드는 fit 메서드와 동일하되 데이터 제너레이터를 사용할 수 있습니다.\n",
    "\n",
    "이 메서드는 첫 번째 매개변수로 입력과 타깃의 배치를 끝없이 반환하는 파이썬 제너레이터를 기대합니다.\n",
    "\n",
    "데이터가 끝없이 생성되기 때문에 케라스 모델에 하나의 에포크를 정의하기 위해 제너레이터로부터 얼마나 많은 샘플을 뽑을 것인지 알려 주어야 합니다.\n",
    "\n",
    "steps_per_epoch 매개변수에서 이를 설정합니다.\n",
    "\n",
    "제너레이터로부터 steps_per_epoch 개의 배치만큼 뽑은 다음, 즉 steps_per_epoch 횟수만큼 경사 하강법 단계를 실행한 다음에 훈련 프로세스는 다음 에포크로 넘어갑니다.\n",
    "\n",
    "여기서는 20개의 샘플이 하나의 배치이므로 2000개의 샘플을 모두 처리할 때까지 100개의 배치를 뽑을 것입니다.\n",
    "\n",
    "fit_generator를 사용할 때 fit 메서드와 마찬가지로 validation_data 매개변수를 전달할 수 있습니다.\n",
    "\n",
    "이 매개변수에는 데이터 제너레이터도 가능하지만 넘파이 배열의 튜플도 가능합니다. \n",
    "\n",
    "validation_data로 제너레이터를 전달하면 검증 데이터의 배치를 끝없이 반환합니다.\n",
    "\n",
    "따라서 검증 데이터 제너레이터에서 얼마나 많은 배치를 추출하여 평가할지 validation_steps 매개변수에 지정해야 합니다.\n",
    "\n",
    "\n",
    " 실제로 한 epoch마다 사용되는 학습데이터의 수는 steps_per_epoch * batch_size가 됩니다.\n",
    "\n",
    "\n"
   ]
  },
  {
   "cell_type": "code",
   "execution_count": 26,
   "metadata": {},
   "outputs": [
    {
     "name": "stdout",
     "output_type": "stream",
     "text": [
      "Epoch 1/30\n",
      "100/100 [==============================] - 13s 127ms/step - loss: 0.6928 - acc: 0.5215 - val_loss: 0.6711 - val_acc: 0.6240\n",
      "Epoch 2/30\n",
      "100/100 [==============================] - 8s 77ms/step - loss: 0.6558 - acc: 0.6050 - val_loss: 0.6303 - val_acc: 0.6230\n",
      "Epoch 3/30\n",
      "100/100 [==============================] - 8s 78ms/step - loss: 0.6019 - acc: 0.6590 - val_loss: 0.6183 - val_acc: 0.6430\n",
      "Epoch 4/30\n",
      "100/100 [==============================] - 7s 73ms/step - loss: 0.5600 - acc: 0.7130 - val_loss: 0.5961 - val_acc: 0.6750\n",
      "Epoch 5/30\n",
      "100/100 [==============================] - 7s 73ms/step - loss: 0.5357 - acc: 0.7355 - val_loss: 0.6234 - val_acc: 0.6560\n",
      "Epoch 6/30\n",
      "100/100 [==============================] - 7s 73ms/step - loss: 0.5094 - acc: 0.7470 - val_loss: 0.5703 - val_acc: 0.6950\n",
      "Epoch 7/30\n",
      "100/100 [==============================] - 7s 72ms/step - loss: 0.4800 - acc: 0.7665 - val_loss: 0.6361 - val_acc: 0.6570\n",
      "Epoch 8/30\n",
      "100/100 [==============================] - 7s 72ms/step - loss: 0.4585 - acc: 0.7795 - val_loss: 0.5543 - val_acc: 0.7110\n",
      "Epoch 9/30\n",
      "100/100 [==============================] - 7s 72ms/step - loss: 0.4242 - acc: 0.8025 - val_loss: 0.5970 - val_acc: 0.7120\n",
      "Epoch 10/30\n",
      "100/100 [==============================] - 7s 72ms/step - loss: 0.4074 - acc: 0.8220 - val_loss: 0.5748 - val_acc: 0.7010\n",
      "Epoch 11/30\n",
      "100/100 [==============================] - 8s 78ms/step - loss: 0.3838 - acc: 0.8240 - val_loss: 0.5308 - val_acc: 0.7210\n",
      "Epoch 12/30\n",
      "100/100 [==============================] - 7s 73ms/step - loss: 0.3667 - acc: 0.8450 - val_loss: 0.5334 - val_acc: 0.7340\n",
      "Epoch 13/30\n",
      "100/100 [==============================] - 7s 71ms/step - loss: 0.3408 - acc: 0.8515 - val_loss: 0.6556 - val_acc: 0.6910\n",
      "Epoch 14/30\n",
      "100/100 [==============================] - 7s 72ms/step - loss: 0.3212 - acc: 0.8635 - val_loss: 0.5769 - val_acc: 0.7240\n",
      "Epoch 15/30\n",
      "100/100 [==============================] - 7s 72ms/step - loss: 0.2981 - acc: 0.8820 - val_loss: 0.6417 - val_acc: 0.7290\n",
      "Epoch 16/30\n",
      "100/100 [==============================] - 7s 72ms/step - loss: 0.2923 - acc: 0.8710 - val_loss: 0.5303 - val_acc: 0.7550\n",
      "Epoch 17/30\n",
      "100/100 [==============================] - 7s 71ms/step - loss: 0.2615 - acc: 0.8930 - val_loss: 0.6200 - val_acc: 0.7260\n",
      "Epoch 18/30\n",
      "100/100 [==============================] - 7s 71ms/step - loss: 0.2408 - acc: 0.9085 - val_loss: 0.5518 - val_acc: 0.7510\n",
      "Epoch 19/30\n",
      "100/100 [==============================] - 7s 72ms/step - loss: 0.2202 - acc: 0.9135 - val_loss: 0.5666 - val_acc: 0.7390\n",
      "Epoch 20/30\n",
      "100/100 [==============================] - 7s 73ms/step - loss: 0.1960 - acc: 0.9260 - val_loss: 0.5830 - val_acc: 0.7510\n",
      "Epoch 21/30\n",
      "100/100 [==============================] - 7s 74ms/step - loss: 0.1773 - acc: 0.9380 - val_loss: 0.6907 - val_acc: 0.7260\n",
      "Epoch 22/30\n",
      "100/100 [==============================] - 7s 73ms/step - loss: 0.1573 - acc: 0.9440 - val_loss: 0.7286 - val_acc: 0.7360\n",
      "Epoch 23/30\n",
      "100/100 [==============================] - 7s 72ms/step - loss: 0.1415 - acc: 0.9555 - val_loss: 0.6757 - val_acc: 0.7410\n",
      "Epoch 24/30\n",
      "100/100 [==============================] - 7s 72ms/step - loss: 0.1311 - acc: 0.9535 - val_loss: 0.6926 - val_acc: 0.7520\n",
      "Epoch 25/30\n",
      "100/100 [==============================] - 7s 71ms/step - loss: 0.1170 - acc: 0.9640 - val_loss: 0.7276 - val_acc: 0.7340\n",
      "Epoch 26/30\n",
      "100/100 [==============================] - 7s 72ms/step - loss: 0.0919 - acc: 0.9735 - val_loss: 0.9947 - val_acc: 0.7090\n",
      "Epoch 27/30\n",
      "100/100 [==============================] - 7s 72ms/step - loss: 0.0845 - acc: 0.9750 - val_loss: 0.7280 - val_acc: 0.7510\n",
      "Epoch 28/30\n",
      "100/100 [==============================] - 7s 71ms/step - loss: 0.0711 - acc: 0.9780 - val_loss: 0.8202 - val_acc: 0.7350\n",
      "Epoch 29/30\n",
      "100/100 [==============================] - 7s 72ms/step - loss: 0.0667 - acc: 0.9805 - val_loss: 0.9918 - val_acc: 0.7150\n",
      "Epoch 30/30\n",
      "100/100 [==============================] - 7s 71ms/step - loss: 0.0587 - acc: 0.9845 - val_loss: 0.8789 - val_acc: 0.7440\n"
     ]
    }
   ],
   "source": [
    "history = model.fit_generator(\n",
    "      train_generator,\n",
    "      steps_per_epoch=100,\n",
    "      epochs=30,\n",
    "      validation_data=validation_generator,\n",
    "      validation_steps=50)"
   ]
  },
  {
   "cell_type": "code",
   "execution_count": 31,
   "metadata": {},
   "outputs": [],
   "source": [
    "import matplotlib.pyplot as plt\n",
    "%matplotlib inline"
   ]
  },
  {
   "cell_type": "code",
   "execution_count": 32,
   "metadata": {},
   "outputs": [
    {
     "data": {
      "image/png": "[encoded data removed]",
      "text/plain": [
       "<Figure size 432x288 with 1 Axes>"
      ]
     },
     "metadata": {},
     "output_type": "display_data"
    },
    {
     "data": {
      "image/png": "[encoded data removed]",
      "text/plain": [
       "<Figure size 432x288 with 1 Axes>"
      ]
     },
     "metadata": {},
     "output_type": "display_data"
    }
   ],
   "source": [
    "acc = history.history['acc']\n",
    "val_acc = history.history['val_acc']\n",
    "loss = history.history['loss']\n",
    "val_loss = history.history['val_loss']\n",
    "\n",
    "epochs = range(len(acc))\n",
    "\n",
    "plt.plot(epochs, acc, 'bo', label='Training acc')\n",
    "plt.plot(epochs, val_acc, 'b', label='Validation acc')\n",
    "plt.title('Training and validation accuracy')\n",
    "plt.legend()\n",
    "\n",
    "plt.figure()\n",
    "\n",
    "plt.plot(epochs, loss, 'bo', label='Training loss')\n",
    "plt.plot(epochs, val_loss, 'b', label='Validation loss')\n",
    "plt.title('Training and validation loss')\n",
    "plt.legend()\n",
    "\n",
    "plt.show()"
   ]
  },
  {
   "cell_type": "code",
   "execution_count": 33,
   "metadata": {},
   "outputs": [],
   "source": [
    "model.save('cats_and_dogs_small_2.h5')"
   ]
  }
 ],
 "metadata": {
  "kernelspec": {
   "display_name": "Python [conda env:anaconda3]",
   "language": "python",
   "name": "conda-env-anaconda3-py"
  },
  "language_info": {
   "codemirror_mode": {
    "name": "ipython",
    "version": 3
   },
   "file_extension": ".py",
   "mimetype": "text/x-python",
   "name": "python",
   "nbconvert_exporter": "python",
   "pygments_lexer": "ipython3",
   "version": "3.6.4"
  }
 },
 "nbformat": 4,
 "nbformat_minor": 2
}
