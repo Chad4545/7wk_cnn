{
 "cells": [
  {
   "cell_type": "markdown",
   "metadata": {},
   "source": [
    "## Local Response Normalization, Dropout 제외 "
   ]
  },
  {
   "cell_type": "code",
   "execution_count": 1,
   "metadata": {},
   "outputs": [
    {
     "name": "stderr",
     "output_type": "stream",
     "text": [
      "/Users/sungjinpark/anaconda3/lib/python3.6/site-packages/h5py/__init__.py:36: FutureWarning: Conversion of the second argument of issubdtype from `float` to `np.floating` is deprecated. In future, it will be treated as `np.float64 == np.dtype(float).type`.\n",
      "  from ._conv import register_converters as _register_converters\n",
      "Using TensorFlow backend.\n"
     ]
    }
   ],
   "source": [
    "import keras\n",
    "from keras.models import Sequential\n",
    "from keras.layers import Dense, Activation, Dropout, Flatten, Conv2D, MaxPooling2D\n",
    "from keras.layers.normalization import BatchNormalization\n",
    "import numpy as np\n",
    "np.random.seed(1000)\n"
   ]
  },
  {
   "cell_type": "code",
   "execution_count": null,
   "metadata": {},
   "outputs": [],
   "source": [
    "#Create a sequential model\n",
    "model = Sequential()\n",
    "\n",
    "# 1st Convolutional Layer\n",
    "model.add()\n",
    "model.add()\n",
    "# Pooling \n",
    "model.add()\n",
    "\n",
    "# 2nd Convolutional Layer\n",
    "model.add()\n",
    "model.add()\n",
    "# Pooling\n",
    "model.add()\n",
    "\n",
    "# 3rd Convolutional Layer\n",
    "model.add()\n",
    "model.add()\n",
    "\n",
    "# 4th Convolutional Layer\n",
    "model.add()\n",
    "model.add()\n",
    "\n",
    "# 5th Convolutional Layer\n",
    "model.add()\n",
    "model.add()\n",
    "# Pooling\n",
    "model.add()\n",
    "\n",
    "# Passing it to a dense layer\n",
    "model.add()\n",
    "# 1st Dense Layer\n",
    "model.add()\n",
    "model.add()\n",
    "\n",
    "# 2nd Dense Layer\n",
    "model.add()\n",
    "model.add()\n",
    "\n",
    "# 3rd Dense Layer\n",
    "model.add()\n",
    "model.add()\n",
    "\n",
    "# Output Layer\n",
    "model.add()\n",
    "model.add()\n",
    "\n",
    "model.summary()"
   ]
  },
  {
   "cell_type": "code",
   "execution_count": null,
   "metadata": {},
   "outputs": [],
   "source": []
  }
 ],
 "metadata": {
  "kernelspec": {
   "display_name": "Python [conda env:anaconda3]",
   "language": "python",
   "name": "conda-env-anaconda3-py"
  },
  "language_info": {
   "codemirror_mode": {
    "name": "ipython",
    "version": 3
   },
   "file_extension": ".py",
   "mimetype": "text/x-python",
   "name": "python",
   "nbconvert_exporter": "python",
   "pygments_lexer": "ipython3",
   "version": "3.6.4"
  }
 },
 "nbformat": 4,
 "nbformat_minor": 2
}
